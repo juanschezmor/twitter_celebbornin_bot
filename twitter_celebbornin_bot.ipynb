{
 "cells": [
  {
   "cell_type": "code",
   "execution_count": 114,
   "id": "4112349d",
   "metadata": {},
   "outputs": [
    {
     "name": "stdout",
     "output_type": "stream",
     "text": [
      "Collecting selenium\n",
      "  Downloading selenium-4.7.2-py3-none-any.whl (6.3 MB)\n",
      "     ---------------------------------------- 6.3/6.3 MB 1.0 MB/s eta 0:00:00\n",
      "Requirement already satisfied: urllib3[socks]~=1.26 in c:\\users\\juans\\anaconda3\\lib\\site-packages (from selenium) (1.26.11)\n",
      "Collecting trio-websocket~=0.9\n",
      "  Downloading trio_websocket-0.9.2-py3-none-any.whl (16 kB)\n",
      "Requirement already satisfied: certifi>=2021.10.8 in c:\\users\\juans\\anaconda3\\lib\\site-packages (from selenium) (2022.9.14)\n",
      "Collecting trio~=0.17\n",
      "  Downloading trio-0.22.0-py3-none-any.whl (384 kB)\n",
      "     -------------------------------------- 384.9/384.9 kB 1.8 MB/s eta 0:00:00\n",
      "Collecting exceptiongroup>=1.0.0rc9\n",
      "Note: you may need to restart the kernel to use updated packages.\n",
      "  Downloading exceptiongroup-1.0.4-py3-none-any.whl (14 kB)\n",
      "Requirement already satisfied: attrs>=19.2.0 in c:\\users\\juans\\anaconda3\\lib\\site-packages (from trio~=0.17->selenium) (21.4.0)\n",
      "Requirement already satisfied: sniffio in c:\\users\\juans\\anaconda3\\lib\\site-packages (from trio~=0.17->selenium) (1.2.0)\n",
      "Collecting outcome\n",
      "  Downloading outcome-1.2.0-py2.py3-none-any.whl (9.7 kB)\n",
      "Requirement already satisfied: sortedcontainers in c:\\users\\juans\\anaconda3\\lib\\site-packages (from trio~=0.17->selenium) (2.4.0)\n",
      "Collecting async-generator>=1.9\n",
      "  Downloading async_generator-1.10-py3-none-any.whl (18 kB)\n",
      "Requirement already satisfied: cffi>=1.14 in c:\\users\\juans\\anaconda3\\lib\\site-packages (from trio~=0.17->selenium) (1.15.1)\n",
      "Requirement already satisfied: idna in c:\\users\\juans\\anaconda3\\lib\\site-packages (from trio~=0.17->selenium) (3.3)\n",
      "Collecting wsproto>=0.14\n",
      "  Downloading wsproto-1.2.0-py3-none-any.whl (24 kB)\n",
      "Requirement already satisfied: PySocks!=1.5.7,<2.0,>=1.5.6 in c:\\users\\juans\\anaconda3\\lib\\site-packages (from urllib3[socks]~=1.26->selenium) (1.7.1)\n",
      "Requirement already satisfied: pycparser in c:\\users\\juans\\anaconda3\\lib\\site-packages (from cffi>=1.14->trio~=0.17->selenium) (2.21)\n",
      "Collecting h11<1,>=0.9.0\n",
      "  Downloading h11-0.14.0-py3-none-any.whl (58 kB)\n",
      "     ---------------------------------------- 58.3/58.3 kB 3.0 MB/s eta 0:00:00\n",
      "Installing collected packages: outcome, h11, exceptiongroup, async-generator, wsproto, trio, trio-websocket, selenium\n",
      "Successfully installed async-generator-1.10 exceptiongroup-1.0.4 h11-0.14.0 outcome-1.2.0 selenium-4.7.2 trio-0.22.0 trio-websocket-0.9.2 wsproto-1.2.0\n"
     ]
    }
   ],
   "source": [
    "\n",
    "import tweepy\n",
    "import csv\n",
    "import random\n",
    "\n",
    "from selenium import webdriver\n",
    "from selenium.webdriver.common.keys import Keys\n",
    "from selenium.webdriver.common.by import By\n",
    "import time"
   ]
  },
  {
   "cell_type": "code",
   "execution_count": 9,
   "id": "ee30ebd4",
   "metadata": {},
   "outputs": [],
   "source": [
    "API_KEY = \"copy your API here",
    "API_SECRET = \"copy your API secret here",
    "ACCESS_TOKEN = \"copy your access token here",
    "ACCESS_SECRET = \"copy your access secret here"
   ]
  },
  {
   "cell_type": "code",
   "execution_count": 117,
   "id": "4655b00b",
   "metadata": {},
   "outputs": [
    {
     "name": "stderr",
     "output_type": "stream",
     "text": [
      "C:\\Users\\juans\\AppData\\Local\\Temp\\ipykernel_12456\\3851095027.py:1: DeprecationWarning: executable_path has been deprecated, please pass in a Service object\n",
      "  driver= webdriver.Chrome('copy your navigator drive route here')\n"
     ]
    }
   ],
   "source": [
    "\n",
    "auth = tweepy.OAuthHandler(API_KEY, API_SECRET)\n",
    "auth.set_access_token(ACCESS_TOKEN, ACCESS_SECRET)"
   ]
  },
  {
   "cell_type": "code",
   "execution_count": 13,
   "id": "e5bbaf29",
   "metadata": {},
   "outputs": [],
   "source": [
    "api = tweepy.API(auth)"
   ]
  },
  {
   "cell_type": "code",
   "execution_count": 107,
   "id": "2f4e2e6d",
   "metadata": {},
   "outputs": [
    {
     "name": "stdout",
     "output_type": "stream",
     "text": [
      "[' Adele ', ' Joey + Rory ', ' Draaco Aventura ', ' Justin Bieber ', ' Peer van Mladen ']\n"
     ]
    }
   ],
   "source": [
    "\n",
    "with open(\"./singers.csv\",encoding=\"utf8\") as f:\n",
    "    lector = csv.reader(f)\n",
    "    next(lector)\n",
    "    celebs=[]\n",
    "    for celeb in lector:\n",
    "        if len(celeb)>=1:\n",
    "            celebs.append(celeb[0])\n",
    "    print(celebs[:5])\n",
    "        "
   ]
  },
  {
   "cell_type": "code",
   "execution_count": null,
   "id": "2433894c",
   "metadata": {},
   "outputs": [],
   "source": [
    "\n",
    "with open(\"./pueblos.csv\",encoding=\"utf8\") as f:\n",
    "    lector = csv.reader(f)\n",
    "    next(lector)\n",
    "    pueblos=[]\n",
    "    for pueblo in lector:\n",
    "        pueblo=pueblo[0]\n",
    "        if len(pueblo.split(','))>1:\n",
    "            pueblo= pueblo.split(',')[1] + \" \" + pueblo.split(',')[0]\n",
    "        pueblos.append(pueblo)\n",
    "    print(pueblos)"
   ]
  },
  {
   "cell_type": "code",
   "execution_count": 125,
   "id": "e04f384a",
   "metadata": {},
   "outputs": [],
   "source": [
    "celebrandom=celebs[random.randint(0,len(celebs)-1)]\n",
    "pueblorandom=pueblos[random.randint(0,len(pueblos)-1)]"
   ]
  },
  {
   "cell_type": "code",
   "execution_count": 127,
   "id": "9b7ad976",
   "metadata": {},
   "outputs": [
    {
     "name": "stdout",
     "output_type": "stream",
     "text": [
      " Manuela Van Geenhoven   nació en   El Rubio\n"
     ]
    }
   ],
   "source": [
    "print(celebrandom,\" nació en \",pueblorandom)"
   ]
  },
  {
   "cell_type": "code",
   "execution_count": 161,
   "id": "6225d0fa",
   "metadata": {},
   "outputs": [
    {
     "name": "stderr",
     "output_type": "stream",
     "text": [
      "C:\\Users\\juans\\AppData\\Local\\Temp\\ipykernel_12456\\1667425432.py:2: DeprecationWarning: executable_path has been deprecated, please pass in a Service object\n",
      "  driver = webdriver.Chrome('Copy your navigator driver route here')\n"
     ]
    },
    {
     "data": {
      "text/plain": [
       "True"
      ]
     },
     "execution_count": 161,
     "metadata": {},
     "output_type": "execute_result"
    }
   ],
   "source": [
    "#Encender navegador\n",
    "driver = webdriver.Chrome('\"C:\\chromedriver.exe\"')\n",
    "driver.get('https://www.google.ca/imghp?hl=en&tab=ri&authuser=0&ogbl')\n",
    "#Aceptar cookies\n",
    "cookies= driver.find_element(By.XPATH, '//*[@id=\"L2AGLb\"]/div')\n",
    "cookies.click()\n",
    "#Click barra de búsqueda\n",
    "box=driver.find_element(By.XPATH, '/html/body/div[1]/div[3]/form/div[1]/div[1]/div[1]/div/div[2]/input')\n",
    "#Buscar famoso\n",
    "box.send_keys(celebrandom)\n",
    "box.send_keys(Keys.ENTER)\n",
    "\n",
    "primerafoto= driver.find_element(By.XPATH, '//*[@id=\"islrg\"]/div[1]/div[1]/a[1]/div[1]/img')\n",
    "primerafoto.screenshot(f'./imagenes/{celebrandom.strip()}.png')"
   ]
  },
  {
   "cell_type": "code",
   "execution_count": 162,
   "id": "9e675d61",
   "metadata": {},
   "outputs": [
    {
     "name": "stderr",
     "output_type": "stream",
     "text": [
      "C:\\Users\\juans\\AppData\\Local\\Temp\\ipykernel_12456\\3780948683.py:2: DeprecationWarning: executable_path has been deprecated, please pass in a Service object\n",
      "  driver = webdriver.Chrome('\"C:\\chromedriver.exe\"')\n"
     ]
    },
    {
     "data": {
      "text/plain": [
       "True"
      ]
     },
     "execution_count": 162,
     "metadata": {},
     "output_type": "execute_result"
    }
   ],
   "source": [
    "#Encender navegador\n",
    "driver = webdriver.Chrome('Copy your navigator driver route here')\n",
    "driver.get('https://www.google.ca/imghp?hl=en&tab=ri&authuser=0&ogbl')\n",
    "#Aceptar cookies\n",
    "cookies= driver.find_element(By.XPATH, '//*[@id=\"L2AGLb\"]/div')\n",
    "cookies.click()\n",
    "#Click barra de búsqueda\n",
    "box=driver.find_element(By.XPATH, '/html/body/div[1]/div[3]/form/div[1]/div[1]/div[1]/div/div[2]/input')\n",
    "#Buscar pueblo\n",
    "box.send_keys(pueblorandom)\n",
    "box.send_keys(Keys.ENTER)\n",
    "\n",
    "primerafoto= driver.find_element(By.XPATH, '//*[@id=\"islrg\"]/div[1]/div[1]/a[1]/div[1]/img')\n",
    "primerafoto.screenshot(f'./imagenes/{pueblorandom.strip()}.png')"
   ]
  },
  {
   "cell_type": "code",
   "execution_count": 165,
   "id": "871de056",
   "metadata": {},
   "outputs": [],
   "source": [
    "#publicar tweet\n",
    "tweet= celebrandom+\" nació en \"+pueblorandom\n",
    "fotoceleb = api.media_upload(f\"./imagenes/{celebrandom.strip()}.png\")\n",
    "fotopueblo = api.media_upload(f\"./imagenes/{pueblorandom.strip()}.png\")\n",
    "post_result = api.update_status(status=tweet, media_ids=[fotoceleb.media_id,fotopueblo.media_id])"
   ]
  },
  {
   "cell_type": "code",
   "execution_count": 169,
   "id": "367a008b",
   "metadata": {},
   "outputs": [],
   "source": [
    "#borrar fotos\n",
    "import os\n",
    "\n",
    "for i in os.listdir(\"./imagenes\"):\n",
    "    os.remove(f\"./imagenes/{i}\")\n",
    "\n"
   ]
  },
  {
   "cell_type": "code",
   "execution_count": null,
   "id": "b63eb757",
   "metadata": {},
   "outputs": [],
   "source": []
  },
  {
   "cell_type": "code",
   "execution_count": null,
   "id": "bb658784",
   "metadata": {},
   "outputs": [],
   "source": []
  }
 ],
 "metadata": {
  "kernelspec": {
   "display_name": "Python 3 (ipykernel)",
   "language": "python",
   "name": "python3"
  },
  "language_info": {
   "codemirror_mode": {
    "name": "ipython",
    "version": 3
   },
   "file_extension": ".py",
   "mimetype": "text/x-python",
   "name": "python",
   "nbconvert_exporter": "python",
   "pygments_lexer": "ipython3",
   "version": "3.9.13"
  }
 },
 "nbformat": 4,
 "nbformat_minor": 5
}
